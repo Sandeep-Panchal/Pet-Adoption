{
 "cells": [
  {
   "cell_type": "code",
   "execution_count": null,
   "metadata": {
    "colab": {},
    "colab_type": "code",
    "id": "oHXzWriXLN0v"
   },
   "outputs": [],
   "source": []
  },
  {
   "cell_type": "markdown",
   "metadata": {
    "colab_type": "text",
    "id": "oclvmpEsBjMi"
   },
   "source": [
    "<center><h1>Pet Adoption</h1>"
   ]
  },
  {
   "cell_type": "markdown",
   "metadata": {
    "colab": {},
    "colab_type": "code",
    "id": "dAXwWJvHBnBe"
   },
   "source": [
    "## Problem Statement from the competition itself:\n",
    "    - A leading pet adoption agency is planning to create a virtual tour experience for their customers showcasing all animals that are available in their shelter. To enable this tour experience, you are required to build a Machine Learning model that determines type and breed of the animal based on its physical attributes and other factors\n",
    "    \n",
    "## Competition Link:\n",
    "    - https://www.hackerearth.com/challenges/competitive/hackerearth-machine-learning-challenge-pet-adoption/problems/"
   ]
  },
  {
   "cell_type": "code",
   "execution_count": 1,
   "metadata": {
    "colab": {
     "base_uri": "https://localhost:8080/",
     "height": 122
    },
    "colab_type": "code",
    "executionInfo": {
     "elapsed": 21966,
     "status": "ok",
     "timestamp": 1598180652114,
     "user": {
      "displayName": "sandeep panchal",
      "photoUrl": "https://lh3.googleusercontent.com/a-/AOh14Gh7IOpMB5glav7I6AkOWH0-Wj6J4HZd3Y9iGvAkJA=s64",
      "userId": "16028125481769875260"
     },
     "user_tz": -330
    },
    "id": "wOS6bHwsBqEV",
    "outputId": "8d1f8382-9c1a-441e-8047-d5ed86f32e7e"
   },
   "outputs": [
    {
     "name": "stdout",
     "output_type": "stream",
     "text": [
      "Go to this URL in a browser: https://accounts.google.com/o/oauth2/auth?client_id=947318989803-6bn6qk8qdgf4n4g3pfee6491hc0brc4i.apps.googleusercontent.com&redirect_uri=urn%3aietf%3awg%3aoauth%3a2.0%3aoob&scope=email%20https%3a%2f%2fwww.googleapis.com%2fauth%2fdocs.test%20https%3a%2f%2fwww.googleapis.com%2fauth%2fdrive%20https%3a%2f%2fwww.googleapis.com%2fauth%2fdrive.photos.readonly%20https%3a%2f%2fwww.googleapis.com%2fauth%2fpeopleapi.readonly&response_type=code\n",
      "\n",
      "Enter your authorization code:\n",
      "··········\n",
      "Mounted at /content/drive\n"
     ]
    }
   ],
   "source": [
    "from google.colab import drive\n",
    "drive.mount('/content/drive')"
   ]
  },
  {
   "cell_type": "code",
   "execution_count": 3,
   "metadata": {
    "colab": {},
    "colab_type": "code",
    "executionInfo": {
     "elapsed": 1974,
     "status": "ok",
     "timestamp": 1598180662641,
     "user": {
      "displayName": "sandeep panchal",
      "photoUrl": "https://lh3.googleusercontent.com/a-/AOh14Gh7IOpMB5glav7I6AkOWH0-Wj6J4HZd3Y9iGvAkJA=s64",
      "userId": "16028125481769875260"
     },
     "user_tz": -330
    },
    "id": "sp9osbERBtzp"
   },
   "outputs": [],
   "source": [
    "import numpy as np\n",
    "import pandas as pd\n",
    "import matplotlib.pyplot as plt\n",
    "%matplotlib inline\n",
    "import seaborn as sns\n",
    "import copy\n",
    "import pickle\n",
    "from sklearn.utils import resample\n",
    "\n",
    "import warnings\n",
    "warnings.filterwarnings('ignore')"
   ]
  },
  {
   "cell_type": "code",
   "execution_count": 4,
   "metadata": {
    "colab": {},
    "colab_type": "code",
    "executionInfo": {
     "elapsed": 3790,
     "status": "ok",
     "timestamp": 1598180665047,
     "user": {
      "displayName": "sandeep panchal",
      "photoUrl": "https://lh3.googleusercontent.com/a-/AOh14Gh7IOpMB5glav7I6AkOWH0-Wj6J4HZd3Y9iGvAkJA=s64",
      "userId": "16028125481769875260"
     },
     "user_tz": -330
    },
    "id": "bTC8IW9SCBk9"
   },
   "outputs": [],
   "source": [
    "train = pd.read_csv('/content/drive/My Drive/Pet Adoption/Dataset/train.csv')\n",
    "test = pd.read_csv('/content/drive/My Drive/Pet Adoption/Dataset/test.csv')"
   ]
  },
  {
   "cell_type": "code",
   "execution_count": null,
   "metadata": {
    "colab": {
     "base_uri": "https://localhost:8080/",
     "height": 51
    },
    "colab_type": "code",
    "executionInfo": {
     "elapsed": 874,
     "status": "ok",
     "timestamp": 1597936547466,
     "user": {
      "displayName": "sandeep panchal",
      "photoUrl": "https://lh3.googleusercontent.com/a-/AOh14Gh7IOpMB5glav7I6AkOWH0-Wj6J4HZd3Y9iGvAkJA=s64",
      "userId": "16028125481769875260"
     },
     "user_tz": -330
    },
    "id": "Hr3WuX13CP45",
    "outputId": "69ea1811-1903-4299-b734-51e354fd9832"
   },
   "outputs": [
    {
     "name": "stdout",
     "output_type": "stream",
     "text": [
      "Shape of train: (18834, 11)\n",
      "Shape of test: (8072, 9)\n"
     ]
    }
   ],
   "source": [
    "print('Shape of train:', train.shape)\n",
    "print('Shape of test:', test.shape)"
   ]
  },
  {
   "cell_type": "code",
   "execution_count": null,
   "metadata": {
    "colab": {
     "base_uri": "https://localhost:8080/",
     "height": 187
    },
    "colab_type": "code",
    "executionInfo": {
     "elapsed": 709,
     "status": "ok",
     "timestamp": 1597936547972,
     "user": {
      "displayName": "sandeep panchal",
      "photoUrl": "https://lh3.googleusercontent.com/a-/AOh14Gh7IOpMB5glav7I6AkOWH0-Wj6J4HZd3Y9iGvAkJA=s64",
      "userId": "16028125481769875260"
     },
     "user_tz": -330
    },
    "id": "-e0h05wtCXZc",
    "outputId": "28cdff50-30a0-47c4-f0d3-5662caf810c8"
   },
   "outputs": [
    {
     "name": "stdout",
     "output_type": "stream",
     "text": [
      "\n",
      "Train columns: Index(['pet_id', 'issue_date', 'listing_date', 'condition', 'color_type',\n",
      "       'length(m)', 'height(cm)', 'X1', 'X2', 'breed_category',\n",
      "       'pet_category'],\n",
      "      dtype='object')\n",
      "\n",
      "\n",
      "Test columns: Index(['pet_id', 'issue_date', 'listing_date', 'condition', 'color_type',\n",
      "       'length(m)', 'height(cm)', 'X1', 'X2'],\n",
      "      dtype='object')\n"
     ]
    }
   ],
   "source": [
    "print('\\nTrain columns:', train.columns)\n",
    "print('\\n\\nTest columns:', test.columns)"
   ]
  },
  {
   "cell_type": "code",
   "execution_count": null,
   "metadata": {
    "colab": {
     "base_uri": "https://localhost:8080/",
     "height": 238
    },
    "colab_type": "code",
    "executionInfo": {
     "elapsed": 838,
     "status": "ok",
     "timestamp": 1597936549292,
     "user": {
      "displayName": "sandeep panchal",
      "photoUrl": "https://lh3.googleusercontent.com/a-/AOh14Gh7IOpMB5glav7I6AkOWH0-Wj6J4HZd3Y9iGvAkJA=s64",
      "userId": "16028125481769875260"
     },
     "user_tz": -330
    },
    "id": "K6diEd66CjlC",
    "outputId": "081ffac1-c8e2-48ad-c1dc-aa403f3345a7"
   },
   "outputs": [
    {
     "name": "stdout",
     "output_type": "stream",
     "text": [
      "Head of train:\n",
      "\n"
     ]
    },
    {
     "data": {
      "text/html": [
       "<div>\n",
       "<style scoped>\n",
       "    .dataframe tbody tr th:only-of-type {\n",
       "        vertical-align: middle;\n",
       "    }\n",
       "\n",
       "    .dataframe tbody tr th {\n",
       "        vertical-align: top;\n",
       "    }\n",
       "\n",
       "    .dataframe thead th {\n",
       "        text-align: right;\n",
       "    }\n",
       "</style>\n",
       "<table border=\"1\" class=\"dataframe\">\n",
       "  <thead>\n",
       "    <tr style=\"text-align: right;\">\n",
       "      <th></th>\n",
       "      <th>pet_id</th>\n",
       "      <th>issue_date</th>\n",
       "      <th>listing_date</th>\n",
       "      <th>condition</th>\n",
       "      <th>color_type</th>\n",
       "      <th>length(m)</th>\n",
       "      <th>height(cm)</th>\n",
       "      <th>X1</th>\n",
       "      <th>X2</th>\n",
       "      <th>breed_category</th>\n",
       "      <th>pet_category</th>\n",
       "    </tr>\n",
       "  </thead>\n",
       "  <tbody>\n",
       "    <tr>\n",
       "      <th>0</th>\n",
       "      <td>ANSL_69903</td>\n",
       "      <td>2016-07-10 00:00:00</td>\n",
       "      <td>2016-09-21 16:25:00</td>\n",
       "      <td>2.0</td>\n",
       "      <td>Brown Tabby</td>\n",
       "      <td>0.80</td>\n",
       "      <td>7.78</td>\n",
       "      <td>13</td>\n",
       "      <td>9</td>\n",
       "      <td>0.0</td>\n",
       "      <td>1</td>\n",
       "    </tr>\n",
       "    <tr>\n",
       "      <th>1</th>\n",
       "      <td>ANSL_66892</td>\n",
       "      <td>2013-11-21 00:00:00</td>\n",
       "      <td>2018-12-27 17:47:00</td>\n",
       "      <td>1.0</td>\n",
       "      <td>White</td>\n",
       "      <td>0.72</td>\n",
       "      <td>14.19</td>\n",
       "      <td>13</td>\n",
       "      <td>9</td>\n",
       "      <td>0.0</td>\n",
       "      <td>2</td>\n",
       "    </tr>\n",
       "    <tr>\n",
       "      <th>2</th>\n",
       "      <td>ANSL_69750</td>\n",
       "      <td>2014-09-28 00:00:00</td>\n",
       "      <td>2016-10-19 08:24:00</td>\n",
       "      <td>NaN</td>\n",
       "      <td>Brown</td>\n",
       "      <td>0.15</td>\n",
       "      <td>40.90</td>\n",
       "      <td>15</td>\n",
       "      <td>4</td>\n",
       "      <td>2.0</td>\n",
       "      <td>4</td>\n",
       "    </tr>\n",
       "    <tr>\n",
       "      <th>3</th>\n",
       "      <td>ANSL_71623</td>\n",
       "      <td>2016-12-31 00:00:00</td>\n",
       "      <td>2019-01-25 18:30:00</td>\n",
       "      <td>1.0</td>\n",
       "      <td>White</td>\n",
       "      <td>0.62</td>\n",
       "      <td>17.82</td>\n",
       "      <td>0</td>\n",
       "      <td>1</td>\n",
       "      <td>0.0</td>\n",
       "      <td>2</td>\n",
       "    </tr>\n",
       "    <tr>\n",
       "      <th>4</th>\n",
       "      <td>ANSL_57969</td>\n",
       "      <td>2017-09-28 00:00:00</td>\n",
       "      <td>2017-11-19 09:38:00</td>\n",
       "      <td>2.0</td>\n",
       "      <td>Black</td>\n",
       "      <td>0.50</td>\n",
       "      <td>11.06</td>\n",
       "      <td>18</td>\n",
       "      <td>4</td>\n",
       "      <td>0.0</td>\n",
       "      <td>1</td>\n",
       "    </tr>\n",
       "  </tbody>\n",
       "</table>\n",
       "</div>"
      ],
      "text/plain": [
       "       pet_id           issue_date  ... breed_category  pet_category\n",
       "0  ANSL_69903  2016-07-10 00:00:00  ...            0.0             1\n",
       "1  ANSL_66892  2013-11-21 00:00:00  ...            0.0             2\n",
       "2  ANSL_69750  2014-09-28 00:00:00  ...            2.0             4\n",
       "3  ANSL_71623  2016-12-31 00:00:00  ...            0.0             2\n",
       "4  ANSL_57969  2017-09-28 00:00:00  ...            0.0             1\n",
       "\n",
       "[5 rows x 11 columns]"
      ]
     },
     "execution_count": 6,
     "metadata": {
      "tags": []
     },
     "output_type": "execute_result"
    }
   ],
   "source": [
    "print('Head of train:\\n')\n",
    "train.head()"
   ]
  },
  {
   "cell_type": "code",
   "execution_count": null,
   "metadata": {
    "colab": {
     "base_uri": "https://localhost:8080/",
     "height": 238
    },
    "colab_type": "code",
    "executionInfo": {
     "elapsed": 1123,
     "status": "ok",
     "timestamp": 1597936555912,
     "user": {
      "displayName": "sandeep panchal",
      "photoUrl": "https://lh3.googleusercontent.com/a-/AOh14Gh7IOpMB5glav7I6AkOWH0-Wj6J4HZd3Y9iGvAkJA=s64",
      "userId": "16028125481769875260"
     },
     "user_tz": -330
    },
    "id": "WyJfaWMuC3SS",
    "outputId": "97846ceb-b52b-48d5-d8be-2e3a69a17180"
   },
   "outputs": [
    {
     "name": "stdout",
     "output_type": "stream",
     "text": [
      "Head of test:\n",
      "\n"
     ]
    },
    {
     "data": {
      "text/html": [
       "<div>\n",
       "<style scoped>\n",
       "    .dataframe tbody tr th:only-of-type {\n",
       "        vertical-align: middle;\n",
       "    }\n",
       "\n",
       "    .dataframe tbody tr th {\n",
       "        vertical-align: top;\n",
       "    }\n",
       "\n",
       "    .dataframe thead th {\n",
       "        text-align: right;\n",
       "    }\n",
       "</style>\n",
       "<table border=\"1\" class=\"dataframe\">\n",
       "  <thead>\n",
       "    <tr style=\"text-align: right;\">\n",
       "      <th></th>\n",
       "      <th>pet_id</th>\n",
       "      <th>issue_date</th>\n",
       "      <th>listing_date</th>\n",
       "      <th>condition</th>\n",
       "      <th>color_type</th>\n",
       "      <th>length(m)</th>\n",
       "      <th>height(cm)</th>\n",
       "      <th>X1</th>\n",
       "      <th>X2</th>\n",
       "    </tr>\n",
       "  </thead>\n",
       "  <tbody>\n",
       "    <tr>\n",
       "      <th>0</th>\n",
       "      <td>ANSL_75005</td>\n",
       "      <td>2005-08-17 00:00:00</td>\n",
       "      <td>2017-09-07 15:35:00</td>\n",
       "      <td>0.0</td>\n",
       "      <td>Black</td>\n",
       "      <td>0.87</td>\n",
       "      <td>42.73</td>\n",
       "      <td>0</td>\n",
       "      <td>7</td>\n",
       "    </tr>\n",
       "    <tr>\n",
       "      <th>1</th>\n",
       "      <td>ANSL_76663</td>\n",
       "      <td>2018-11-15 00:00:00</td>\n",
       "      <td>2019-05-08 17:24:00</td>\n",
       "      <td>1.0</td>\n",
       "      <td>Orange Tabby</td>\n",
       "      <td>0.06</td>\n",
       "      <td>6.71</td>\n",
       "      <td>0</td>\n",
       "      <td>1</td>\n",
       "    </tr>\n",
       "    <tr>\n",
       "      <th>2</th>\n",
       "      <td>ANSL_58259</td>\n",
       "      <td>2012-10-11 00:00:00</td>\n",
       "      <td>2018-04-02 16:51:00</td>\n",
       "      <td>1.0</td>\n",
       "      <td>Black</td>\n",
       "      <td>0.24</td>\n",
       "      <td>41.21</td>\n",
       "      <td>0</td>\n",
       "      <td>7</td>\n",
       "    </tr>\n",
       "    <tr>\n",
       "      <th>3</th>\n",
       "      <td>ANSL_67171</td>\n",
       "      <td>2015-02-13 00:00:00</td>\n",
       "      <td>2018-04-06 07:25:00</td>\n",
       "      <td>1.0</td>\n",
       "      <td>Black</td>\n",
       "      <td>0.29</td>\n",
       "      <td>8.46</td>\n",
       "      <td>7</td>\n",
       "      <td>1</td>\n",
       "    </tr>\n",
       "    <tr>\n",
       "      <th>4</th>\n",
       "      <td>ANSL_72871</td>\n",
       "      <td>2017-01-18 00:00:00</td>\n",
       "      <td>2018-04-26 13:42:00</td>\n",
       "      <td>1.0</td>\n",
       "      <td>Brown</td>\n",
       "      <td>0.71</td>\n",
       "      <td>30.92</td>\n",
       "      <td>0</td>\n",
       "      <td>7</td>\n",
       "    </tr>\n",
       "  </tbody>\n",
       "</table>\n",
       "</div>"
      ],
      "text/plain": [
       "       pet_id           issue_date         listing_date  ...  height(cm) X1  X2\n",
       "0  ANSL_75005  2005-08-17 00:00:00  2017-09-07 15:35:00  ...       42.73  0   7\n",
       "1  ANSL_76663  2018-11-15 00:00:00  2019-05-08 17:24:00  ...        6.71  0   1\n",
       "2  ANSL_58259  2012-10-11 00:00:00  2018-04-02 16:51:00  ...       41.21  0   7\n",
       "3  ANSL_67171  2015-02-13 00:00:00  2018-04-06 07:25:00  ...        8.46  7   1\n",
       "4  ANSL_72871  2017-01-18 00:00:00  2018-04-26 13:42:00  ...       30.92  0   7\n",
       "\n",
       "[5 rows x 9 columns]"
      ]
     },
     "execution_count": 7,
     "metadata": {
      "tags": []
     },
     "output_type": "execute_result"
    }
   ],
   "source": [
    "print('Head of test:\\n')\n",
    "test.head()"
   ]
  },
  {
   "cell_type": "code",
   "execution_count": null,
   "metadata": {
    "colab": {},
    "colab_type": "code",
    "id": "pwMJ0lqGC5H2"
   },
   "outputs": [],
   "source": []
  },
  {
   "cell_type": "markdown",
   "metadata": {
    "colab_type": "text",
    "id": "dex3mRqdDFig"
   },
   "source": [
    "<center><h1>Exploratory Data Analysis</h1>"
   ]
  },
  {
   "cell_type": "markdown",
   "metadata": {
    "colab_type": "text",
    "id": "W12OH-mYEYBS"
   },
   "source": [
    "# Check for null values and data type"
   ]
  },
  {
   "cell_type": "code",
   "execution_count": null,
   "metadata": {
    "colab": {
     "base_uri": "https://localhost:8080/",
     "height": 323
    },
    "colab_type": "code",
    "executionInfo": {
     "elapsed": 905,
     "status": "ok",
     "timestamp": 1597936557361,
     "user": {
      "displayName": "sandeep panchal",
      "photoUrl": "https://lh3.googleusercontent.com/a-/AOh14Gh7IOpMB5glav7I6AkOWH0-Wj6J4HZd3Y9iGvAkJA=s64",
      "userId": "16028125481769875260"
     },
     "user_tz": -330
    },
    "id": "HlWapG1ZDLAW",
    "outputId": "6188efec-9fae-433d-be9b-af20ed4b6a25"
   },
   "outputs": [
    {
     "name": "stdout",
     "output_type": "stream",
     "text": [
      "<class 'pandas.core.frame.DataFrame'>\n",
      "RangeIndex: 18834 entries, 0 to 18833\n",
      "Data columns (total 11 columns):\n",
      " #   Column          Non-Null Count  Dtype  \n",
      "---  ------          --------------  -----  \n",
      " 0   pet_id          18834 non-null  object \n",
      " 1   issue_date      18834 non-null  object \n",
      " 2   listing_date    18834 non-null  object \n",
      " 3   condition       17357 non-null  float64\n",
      " 4   color_type      18834 non-null  object \n",
      " 5   length(m)       18834 non-null  float64\n",
      " 6   height(cm)      18834 non-null  float64\n",
      " 7   X1              18834 non-null  int64  \n",
      " 8   X2              18834 non-null  int64  \n",
      " 9   breed_category  18834 non-null  float64\n",
      " 10  pet_category    18834 non-null  int64  \n",
      "dtypes: float64(4), int64(3), object(4)\n",
      "memory usage: 1.6+ MB\n"
     ]
    }
   ],
   "source": [
    "train.info()"
   ]
  },
  {
   "cell_type": "code",
   "execution_count": null,
   "metadata": {
    "colab": {
     "base_uri": "https://localhost:8080/",
     "height": 85
    },
    "colab_type": "code",
    "executionInfo": {
     "elapsed": 872,
     "status": "ok",
     "timestamp": 1597936560059,
     "user": {
      "displayName": "sandeep panchal",
      "photoUrl": "https://lh3.googleusercontent.com/a-/AOh14Gh7IOpMB5glav7I6AkOWH0-Wj6J4HZd3Y9iGvAkJA=s64",
      "userId": "16028125481769875260"
     },
     "user_tz": -330
    },
    "id": "iuiMk1t8P8w6",
    "outputId": "8a93b31f-7ec7-405b-d96d-87075e57dea2"
   },
   "outputs": [
    {
     "data": {
      "text/plain": [
       "Index(['pet_id', 'issue_date', 'listing_date', 'condition', 'color_type',\n",
       "       'length(m)', 'height(cm)', 'X1', 'X2', 'breed_category',\n",
       "       'pet_category'],\n",
       "      dtype='object')"
      ]
     },
     "execution_count": 9,
     "metadata": {
      "tags": []
     },
     "output_type": "execute_result"
    }
   ],
   "source": [
    "train.columns\n"
   ]
  },
  {
   "cell_type": "code",
   "execution_count": null,
   "metadata": {
    "colab": {
     "base_uri": "https://localhost:8080/",
     "height": 1000
    },
    "colab_type": "code",
    "executionInfo": {
     "elapsed": 713,
     "status": "ok",
     "timestamp": 1597936561037,
     "user": {
      "displayName": "sandeep panchal",
      "photoUrl": "https://lh3.googleusercontent.com/a-/AOh14Gh7IOpMB5glav7I6AkOWH0-Wj6J4HZd3Y9iGvAkJA=s64",
      "userId": "16028125481769875260"
     },
     "user_tz": -330
    },
    "id": "1KRd7AAEEkBT",
    "outputId": "42a2f8de-e018-4906-db0c-868dc6e2a922"
   },
   "outputs": [
    {
     "name": "stdout",
     "output_type": "stream",
     "text": [
      "Value count for the column 'condition'\n",
      "1.0    6819\n",
      "0.0    6281\n",
      "2.0    4257\n",
      "Name: condition, dtype: int64 \n",
      "\n",
      "------------------------- \n",
      "\n",
      "Value count for the column 'color_type'\n",
      "Black                4620\n",
      "White                2453\n",
      "Brown                1791\n",
      "Brown Tabby          1687\n",
      "Tan                  1349\n",
      "Blue                  852\n",
      "Orange Tabby          791\n",
      "Red                   526\n",
      "Brown Brindle         496\n",
      "Tricolor              469\n",
      "Blue Tabby            386\n",
      "Tortie                366\n",
      "Calico                343\n",
      "Gray                  307\n",
      "Chocolate             259\n",
      "Torbie                242\n",
      "Cream Tabby           191\n",
      "Sable                 167\n",
      "Cream                 162\n",
      "Fawn                  159\n",
      "Yellow                143\n",
      "Buff                  125\n",
      "Lynx Point            117\n",
      "Blue Merle            104\n",
      "Seal Point             78\n",
      "Black Brindle          66\n",
      "Gray Tabby             65\n",
      "Black Tabby            55\n",
      "Flame Point            52\n",
      "Orange                 39\n",
      "Brown Merle            39\n",
      "Black Smoke            32\n",
      "Gold                   31\n",
      "Tortie Point           26\n",
      "Silver                 24\n",
      "Red Tick               23\n",
      "Blue Tick              21\n",
      "Blue Point             20\n",
      "Lilac Point            19\n",
      "Silver Tabby           18\n",
      "Yellow Brindle         15\n",
      "Apricot                13\n",
      "Red Merle              13\n",
      "Calico Point           12\n",
      "Blue Cream             10\n",
      "Blue Tiger             10\n",
      "Chocolate Point         9\n",
      "Green                   8\n",
      "Pink                    8\n",
      "Blue Smoke              6\n",
      "Brown Tiger             4\n",
      "Agouti                  4\n",
      "Silver Lynx Point       4\n",
      "Liver                   3\n",
      "Black Tiger             1\n",
      "Liver Tick              1\n",
      "Name: color_type, dtype: int64 \n",
      "\n",
      "------------------------- \n",
      "\n",
      "Value count for the column 'X1'\n",
      "0     10752\n",
      "13     4280\n",
      "7      1460\n",
      "16      603\n",
      "15      554\n",
      "18      548\n",
      "17      260\n",
      "9       106\n",
      "12       64\n",
      "11       53\n",
      "1        51\n",
      "8        46\n",
      "2        24\n",
      "6        11\n",
      "4         7\n",
      "10        6\n",
      "19        3\n",
      "5         3\n",
      "14        2\n",
      "3         1\n",
      "Name: X1, dtype: int64 \n",
      "\n",
      "------------------------- \n",
      "\n",
      "Value count for the column 'X2'\n",
      "1    8493\n",
      "9    5144\n",
      "7    3608\n",
      "4    1263\n",
      "2     183\n",
      "3      64\n",
      "8      58\n",
      "5      12\n",
      "6       5\n",
      "0       4\n",
      "Name: X2, dtype: int64 \n",
      "\n",
      "------------------------- \n",
      "\n",
      "Value count for the column 'breed_category'\n",
      "0.0    9000\n",
      "1.0    8357\n",
      "2.0    1477\n",
      "Name: breed_category, dtype: int64 \n",
      "\n",
      "------------------------- \n",
      "\n",
      "Value count for the column 'pet_category'\n",
      "2    10621\n",
      "1     7184\n",
      "4      941\n",
      "0       88\n",
      "Name: pet_category, dtype: int64 \n",
      "\n",
      "------------------------- \n",
      "\n"
     ]
    }
   ],
   "source": [
    "val_cnt_col = ['condition', 'color_type', 'X1', 'X2', 'breed_category', 'pet_category']\n",
    "\n",
    "for i in val_cnt_col:\n",
    "    print(\"Value count for the column '{}'\".format(i))\n",
    "    print(train[i].value_counts(), '\\n')\n",
    "    print('-'*25,'\\n')"
   ]
  },
  {
   "cell_type": "markdown",
   "metadata": {
    "colab_type": "text",
    "id": "bk2D7cFoH8t9"
   },
   "source": [
    "# Null values with seaborn"
   ]
  },
  {
   "cell_type": "code",
   "execution_count": null,
   "metadata": {
    "colab": {
     "base_uri": "https://localhost:8080/",
     "height": 514
    },
    "colab_type": "code",
    "executionInfo": {
     "elapsed": 1338,
     "status": "ok",
     "timestamp": 1597936566247,
     "user": {
      "displayName": "sandeep panchal",
      "photoUrl": "https://lh3.googleusercontent.com/a-/AOh14Gh7IOpMB5glav7I6AkOWH0-Wj6J4HZd3Y9iGvAkJA=s64",
      "userId": "16028125481769875260"
     },
     "user_tz": -330
    },
    "id": "KuGdlNmWFFRJ",
    "outputId": "b282031d-8ab4-4ce9-f288-8d0d88e91b6c"
   },
   "outputs": [
    {
     "name": "stdout",
     "output_type": "stream",
     "text": [
      "\n",
      "Check the null values with the seaborn\n",
      "\n"
     ]
    },
    {
     "data": {
      "text/plain": [
       "<matplotlib.axes._subplots.AxesSubplot at 0x7f9a031535c0>"
      ]
     },
     "execution_count": 11,
     "metadata": {
      "tags": []
     },
     "output_type": "execute_result"
    },
    {
     "data": {
      "image/png": "[encoded data removed]",
      "text/plain": [
       "<Figure size 576x432 with 2 Axes>"
      ]
     },
     "metadata": {
      "needs_background": "light",
      "tags": []
     },
     "output_type": "display_data"
    }
   ],
   "source": [
    "print('\\nCheck the null values with the seaborn\\n')\n",
    "\n",
    "plt.figure(figsize = (8,6))\n",
    "sns.heatmap(train.isnull() == True, cmap = 'viridis')"
   ]
  },
  {
   "cell_type": "markdown",
   "metadata": {
    "colab_type": "text",
    "id": "RPWSsgG-CC4M"
   },
   "source": [
    "### Observation:\n",
    "- We see few null values under condition feature. We will fill it with -1"
   ]
  },
  {
   "cell_type": "markdown",
   "metadata": {
    "colab_type": "text",
    "id": "F0jM2MivDsjg"
   },
   "source": [
    "### Deep copy of the train data"
   ]
  },
  {
   "cell_type": "code",
   "execution_count": 349,
   "metadata": {
    "colab": {},
    "colab_type": "code",
    "executionInfo": {
     "elapsed": 958,
     "status": "ok",
     "timestamp": 1598193305338,
     "user": {
      "displayName": "sandeep panchal",
      "photoUrl": "https://lh3.googleusercontent.com/a-/AOh14Gh7IOpMB5glav7I6AkOWH0-Wj6J4HZd3Y9iGvAkJA=s64",
      "userId": "16028125481769875260"
     },
     "user_tz": -330
    },
    "id": "jOu14YoJIHGl"
   },
   "outputs": [],
   "source": [
    "trainc = copy.deepcopy(train)\n",
    "trainc.fillna(-1, inplace = True)"
   ]
  },
  {
   "cell_type": "markdown",
   "metadata": {
    "colab_type": "text",
    "id": "lD3HVdAOzmbA"
   },
   "source": [
    "<center><h1>Machine Learning Model</h1>"
   ]
  },
  {
   "cell_type": "markdown",
   "metadata": {},
   "source": [
    "# Steps involved:\n",
    "\n",
    "- Algorithm:\n",
    "    - LightGBM\n",
    "      - Hyperparameters tuned: Maximum depth (max_depth) and n_estimators\n",
    "  \n",
    "- Hyperparameter Tuning with:\n",
    "    - GridSearchCV\n",
    "\n",
    "- Building machine learning model:\n",
    "    - We will first predict the breed_category (dropping pet_category).\n",
    "    - Then while predicting pet_category, we will consider breed_category as one of feature."
   ]
  },
  {
   "cell_type": "code",
   "execution_count": 350,
   "metadata": {
    "colab": {
     "base_uri": "https://localhost:8080/",
     "height": 204
    },
    "colab_type": "code",
    "executionInfo": {
     "elapsed": 649,
     "status": "ok",
     "timestamp": 1598193305906,
     "user": {
      "displayName": "sandeep panchal",
      "photoUrl": "https://lh3.googleusercontent.com/a-/AOh14Gh7IOpMB5glav7I6AkOWH0-Wj6J4HZd3Y9iGvAkJA=s64",
      "userId": "16028125481769875260"
     },
     "user_tz": -330
    },
    "id": "zvp_sGf5NwZ5",
    "outputId": "be95d20a-0e91-4151-ebe7-d82749140e86"
   },
   "outputs": [
    {
     "data": {
      "text/html": [
       "<div>\n",
       "<style scoped>\n",
       "    .dataframe tbody tr th:only-of-type {\n",
       "        vertical-align: middle;\n",
       "    }\n",
       "\n",
       "    .dataframe tbody tr th {\n",
       "        vertical-align: top;\n",
       "    }\n",
       "\n",
       "    .dataframe thead th {\n",
       "        text-align: right;\n",
       "    }\n",
       "</style>\n",
       "<table border=\"1\" class=\"dataframe\">\n",
       "  <thead>\n",
       "    <tr style=\"text-align: right;\">\n",
       "      <th></th>\n",
       "      <th>pet_id</th>\n",
       "      <th>issue_date</th>\n",
       "      <th>listing_date</th>\n",
       "      <th>condition</th>\n",
       "      <th>color_type</th>\n",
       "      <th>length(m)</th>\n",
       "      <th>height(cm)</th>\n",
       "      <th>X1</th>\n",
       "      <th>X2</th>\n",
       "      <th>breed_category</th>\n",
       "      <th>pet_category</th>\n",
       "    </tr>\n",
       "  </thead>\n",
       "  <tbody>\n",
       "    <tr>\n",
       "      <th>0</th>\n",
       "      <td>ANSL_69903</td>\n",
       "      <td>2016-07-10 00:00:00</td>\n",
       "      <td>2016-09-21 16:25:00</td>\n",
       "      <td>2.0</td>\n",
       "      <td>Brown Tabby</td>\n",
       "      <td>0.80</td>\n",
       "      <td>7.78</td>\n",
       "      <td>13</td>\n",
       "      <td>9</td>\n",
       "      <td>0.0</td>\n",
       "      <td>1</td>\n",
       "    </tr>\n",
       "    <tr>\n",
       "      <th>1</th>\n",
       "      <td>ANSL_66892</td>\n",
       "      <td>2013-11-21 00:00:00</td>\n",
       "      <td>2018-12-27 17:47:00</td>\n",
       "      <td>1.0</td>\n",
       "      <td>White</td>\n",
       "      <td>0.72</td>\n",
       "      <td>14.19</td>\n",
       "      <td>13</td>\n",
       "      <td>9</td>\n",
       "      <td>0.0</td>\n",
       "      <td>2</td>\n",
       "    </tr>\n",
       "    <tr>\n",
       "      <th>2</th>\n",
       "      <td>ANSL_69750</td>\n",
       "      <td>2014-09-28 00:00:00</td>\n",
       "      <td>2016-10-19 08:24:00</td>\n",
       "      <td>-1.0</td>\n",
       "      <td>Brown</td>\n",
       "      <td>0.15</td>\n",
       "      <td>40.90</td>\n",
       "      <td>15</td>\n",
       "      <td>4</td>\n",
       "      <td>2.0</td>\n",
       "      <td>4</td>\n",
       "    </tr>\n",
       "    <tr>\n",
       "      <th>3</th>\n",
       "      <td>ANSL_71623</td>\n",
       "      <td>2016-12-31 00:00:00</td>\n",
       "      <td>2019-01-25 18:30:00</td>\n",
       "      <td>1.0</td>\n",
       "      <td>White</td>\n",
       "      <td>0.62</td>\n",
       "      <td>17.82</td>\n",
       "      <td>0</td>\n",
       "      <td>1</td>\n",
       "      <td>0.0</td>\n",
       "      <td>2</td>\n",
       "    </tr>\n",
       "    <tr>\n",
       "      <th>4</th>\n",
       "      <td>ANSL_57969</td>\n",
       "      <td>2017-09-28 00:00:00</td>\n",
       "      <td>2017-11-19 09:38:00</td>\n",
       "      <td>2.0</td>\n",
       "      <td>Black</td>\n",
       "      <td>0.50</td>\n",
       "      <td>11.06</td>\n",
       "      <td>18</td>\n",
       "      <td>4</td>\n",
       "      <td>0.0</td>\n",
       "      <td>1</td>\n",
       "    </tr>\n",
       "  </tbody>\n",
       "</table>\n",
       "</div>"
      ],
      "text/plain": [
       "       pet_id           issue_date  ... breed_category  pet_category\n",
       "0  ANSL_69903  2016-07-10 00:00:00  ...            0.0             1\n",
       "1  ANSL_66892  2013-11-21 00:00:00  ...            0.0             2\n",
       "2  ANSL_69750  2014-09-28 00:00:00  ...            2.0             4\n",
       "3  ANSL_71623  2016-12-31 00:00:00  ...            0.0             2\n",
       "4  ANSL_57969  2017-09-28 00:00:00  ...            0.0             1\n",
       "\n",
       "[5 rows x 11 columns]"
      ]
     },
     "execution_count": 350,
     "metadata": {
      "tags": []
     },
     "output_type": "execute_result"
    }
   ],
   "source": [
    "trainc.head()"
   ]
  },
  {
   "cell_type": "markdown",
   "metadata": {},
   "source": [
    "## Statistical analysis of the numerical features"
   ]
  },
  {
   "cell_type": "code",
   "execution_count": 351,
   "metadata": {
    "colab": {
     "base_uri": "https://localhost:8080/",
     "height": 297
    },
    "colab_type": "code",
    "executionInfo": {
     "elapsed": 897,
     "status": "ok",
     "timestamp": 1598193326333,
     "user": {
      "displayName": "sandeep panchal",
      "photoUrl": "https://lh3.googleusercontent.com/a-/AOh14Gh7IOpMB5glav7I6AkOWH0-Wj6J4HZd3Y9iGvAkJA=s64",
      "userId": "16028125481769875260"
     },
     "user_tz": -330
    },
    "id": "ac2IzAbFFLyZ",
    "outputId": "6e7451a3-bbe0-48cf-be96-039d1e7608b0"
   },
   "outputs": [
    {
     "data": {
      "text/html": [
       "<div>\n",
       "<style scoped>\n",
       "    .dataframe tbody tr th:only-of-type {\n",
       "        vertical-align: middle;\n",
       "    }\n",
       "\n",
       "    .dataframe tbody tr th {\n",
       "        vertical-align: top;\n",
       "    }\n",
       "\n",
       "    .dataframe thead th {\n",
       "        text-align: right;\n",
       "    }\n",
       "</style>\n",
       "<table border=\"1\" class=\"dataframe\">\n",
       "  <thead>\n",
       "    <tr style=\"text-align: right;\">\n",
       "      <th></th>\n",
       "      <th>condition</th>\n",
       "      <th>length(m)</th>\n",
       "      <th>height(cm)</th>\n",
       "      <th>X1</th>\n",
       "      <th>X2</th>\n",
       "      <th>breed_category</th>\n",
       "      <th>pet_category</th>\n",
       "    </tr>\n",
       "  </thead>\n",
       "  <tbody>\n",
       "    <tr>\n",
       "      <th>count</th>\n",
       "      <td>18834.000000</td>\n",
       "      <td>18834.000000</td>\n",
       "      <td>18834.000000</td>\n",
       "      <td>18834.000000</td>\n",
       "      <td>18834.000000</td>\n",
       "      <td>18834.000000</td>\n",
       "      <td>18834.000000</td>\n",
       "    </tr>\n",
       "    <tr>\n",
       "      <th>mean</th>\n",
       "      <td>0.735691</td>\n",
       "      <td>0.502636</td>\n",
       "      <td>27.448832</td>\n",
       "      <td>5.369598</td>\n",
       "      <td>4.577307</td>\n",
       "      <td>0.600563</td>\n",
       "      <td>1.709143</td>\n",
       "    </tr>\n",
       "    <tr>\n",
       "      <th>std</th>\n",
       "      <td>0.896321</td>\n",
       "      <td>0.288705</td>\n",
       "      <td>13.019781</td>\n",
       "      <td>6.572366</td>\n",
       "      <td>3.517763</td>\n",
       "      <td>0.629883</td>\n",
       "      <td>0.717919</td>\n",
       "    </tr>\n",
       "    <tr>\n",
       "      <th>min</th>\n",
       "      <td>-1.000000</td>\n",
       "      <td>0.000000</td>\n",
       "      <td>5.000000</td>\n",
       "      <td>0.000000</td>\n",
       "      <td>0.000000</td>\n",
       "      <td>0.000000</td>\n",
       "      <td>0.000000</td>\n",
       "    </tr>\n",
       "    <tr>\n",
       "      <th>25%</th>\n",
       "      <td>0.000000</td>\n",
       "      <td>0.250000</td>\n",
       "      <td>16.172500</td>\n",
       "      <td>0.000000</td>\n",
       "      <td>1.000000</td>\n",
       "      <td>0.000000</td>\n",
       "      <td>1.000000</td>\n",
       "    </tr>\n",
       "    <tr>\n",
       "      <th>50%</th>\n",
       "      <td>1.000000</td>\n",
       "      <td>0.500000</td>\n",
       "      <td>27.340000</td>\n",
       "      <td>0.000000</td>\n",
       "      <td>4.000000</td>\n",
       "      <td>1.000000</td>\n",
       "      <td>2.000000</td>\n",
       "    </tr>\n",
       "    <tr>\n",
       "      <th>75%</th>\n",
       "      <td>1.000000</td>\n",
       "      <td>0.760000</td>\n",
       "      <td>38.890000</td>\n",
       "      <td>13.000000</td>\n",
       "      <td>9.000000</td>\n",
       "      <td>1.000000</td>\n",
       "      <td>2.000000</td>\n",
       "    </tr>\n",
       "    <tr>\n",
       "      <th>max</th>\n",
       "      <td>2.000000</td>\n",
       "      <td>1.000000</td>\n",
       "      <td>50.000000</td>\n",
       "      <td>19.000000</td>\n",
       "      <td>9.000000</td>\n",
       "      <td>2.000000</td>\n",
       "      <td>4.000000</td>\n",
       "    </tr>\n",
       "  </tbody>\n",
       "</table>\n",
       "</div>"
      ],
      "text/plain": [
       "          condition     length(m)  ...  breed_category  pet_category\n",
       "count  18834.000000  18834.000000  ...    18834.000000  18834.000000\n",
       "mean       0.735691      0.502636  ...        0.600563      1.709143\n",
       "std        0.896321      0.288705  ...        0.629883      0.717919\n",
       "min       -1.000000      0.000000  ...        0.000000      0.000000\n",
       "25%        0.000000      0.250000  ...        0.000000      1.000000\n",
       "50%        1.000000      0.500000  ...        1.000000      2.000000\n",
       "75%        1.000000      0.760000  ...        1.000000      2.000000\n",
       "max        2.000000      1.000000  ...        2.000000      4.000000\n",
       "\n",
       "[8 rows x 7 columns]"
      ]
     },
     "execution_count": 351,
     "metadata": {
      "tags": []
     },
     "output_type": "execute_result"
    }
   ],
   "source": [
    "trainc.describe()"
   ]
  },
  {
   "cell_type": "markdown",
   "metadata": {},
   "source": [
    "## Correlation to check how independent and dependent variables are correlated"
   ]
  },
  {
   "cell_type": "code",
   "execution_count": 352,
   "metadata": {
    "colab": {
     "base_uri": "https://localhost:8080/",
     "height": 652
    },
    "colab_type": "code",
    "executionInfo": {
     "elapsed": 1555,
     "status": "ok",
     "timestamp": 1598193339139,
     "user": {
      "displayName": "sandeep panchal",
      "photoUrl": "https://lh3.googleusercontent.com/a-/AOh14Gh7IOpMB5glav7I6AkOWH0-Wj6J4HZd3Y9iGvAkJA=s64",
      "userId": "16028125481769875260"
     },
     "user_tz": -330
    },
    "id": "MvNrFdxRLX6F",
    "outputId": "43b4631e-404d-489f-afb5-14d9be5f4c0d"
   },
   "outputs": [
    {
     "name": "stdout",
     "output_type": "stream",
     "text": [
      "Correlation with heatmap\n",
      "\n"
     ]
    },
    {
     "data": {
      "text/plain": [
       "<function matplotlib.pyplot.show>"
      ]
     },
     "execution_count": 352,
     "metadata": {
      "tags": []
     },
     "output_type": "execute_result"
    },
    {
     "data": {
      "image/png": "[encoded data removed]",
      "text/plain": [
       "<Figure size 1440x720 with 2 Axes>"
      ]
     },
     "metadata": {
      "needs_background": "light",
      "tags": []
     },
     "output_type": "display_data"
    }
   ],
   "source": [
    "print('Correlation with heatmap\\n')\n",
    "\n",
    "plt.figure(figsize = (20,10))\n",
    "sns.heatmap(trainc.corr(), annot = True)\n",
    "plt.show"
   ]
  },
  {
   "cell_type": "markdown",
   "metadata": {
    "colab_type": "text",
    "id": "d6aS_dWNv0aj"
   },
   "source": [
    "### Observation:\n",
    "- No features are highly correlated with each other. So, not necessary to remove any features based on correlation value with each other.\n",
    "\n",
    "- However, we will drop condition feature while predicting pet_category as the correlation of condition with pet_category is very less\n"
   ]
  },
  {
   "cell_type": "markdown",
   "metadata": {
    "colab_type": "text",
    "id": "TpW8Dl8lwjWL"
   },
   "source": [
    "## Model training with breed_category as target variable\n",
    "- Run the below cell only if breed_category is a target variable"
   ]
  },
  {
   "cell_type": "code",
   "execution_count": 361,
   "metadata": {
    "colab": {},
    "colab_type": "code",
    "executionInfo": {
     "elapsed": 1001,
     "status": "ok",
     "timestamp": 1598193715802,
     "user": {
      "displayName": "sandeep panchal",
      "photoUrl": "https://lh3.googleusercontent.com/a-/AOh14Gh7IOpMB5glav7I6AkOWH0-Wj6J4HZd3Y9iGvAkJA=s64",
      "userId": "16028125481769875260"
     },
     "user_tz": -330
    },
    "id": "rTzhM9ZvwyHy"
   },
   "outputs": [],
   "source": [
    "# breed_category\n",
    "# independent variables for predicting breed_category\n",
    "x = trainc[['condition', 'color_type', 'X1', 'X2']]\n",
    "\n",
    "# target variable as breed_category\n",
    "y = trainc['breed_category']"
   ]
  },
  {
   "cell_type": "markdown",
   "metadata": {
    "colab_type": "text",
    "id": "JXg1Bhzxw0rs"
   },
   "source": [
    "## Model training with pet_category as target variable\n",
    "- Run the below cell only if pet_category is a target variable\n",
    "- Considering breed_category as one of our independent features"
   ]
  },
  {
   "cell_type": "code",
   "execution_count": 394,
   "metadata": {
    "colab": {},
    "colab_type": "code",
    "executionInfo": {
     "elapsed": 918,
     "status": "ok",
     "timestamp": 1598194497036,
     "user": {
      "displayName": "sandeep panchal",
      "photoUrl": "https://lh3.googleusercontent.com/a-/AOh14Gh7IOpMB5glav7I6AkOWH0-Wj6J4HZd3Y9iGvAkJA=s64",
      "userId": "16028125481769875260"
     },
     "user_tz": -330
    },
    "id": "wopMqmhMsv8v"
   },
   "outputs": [],
   "source": [
    "# pet_category\n",
    "# independent variables for predicting pet_category\n",
    "x = trainc[['color_type', 'X1', 'X2', 'breed_category']]\n",
    "\n",
    "# target variable as pet_category\n",
    "y = trainc['pet_category']"
   ]
  },
  {
   "cell_type": "markdown",
   "metadata": {
    "colab_type": "text",
    "id": "GMiYz8ECw8dy"
   },
   "source": [
    "## Feature engineering\n",
    "- Adding X1 and X2"
   ]
  },
  {
   "cell_type": "code",
   "execution_count": 395,
   "metadata": {
    "colab": {},
    "colab_type": "code",
    "executionInfo": {
     "elapsed": 924,
     "status": "ok",
     "timestamp": 1598194499910,
     "user": {
      "displayName": "sandeep panchal",
      "photoUrl": "https://lh3.googleusercontent.com/a-/AOh14Gh7IOpMB5glav7I6AkOWH0-Wj6J4HZd3Y9iGvAkJA=s64",
      "userId": "16028125481769875260"
     },
     "user_tz": -330
    },
    "id": "mfIt9gdgxFvo"
   },
   "outputs": [],
   "source": [
    "x['x12'] = x['X1'] + x['X2']"
   ]
  },
  {
   "cell_type": "markdown",
   "metadata": {
    "colab_type": "text",
    "id": "x46bn2smxByu"
   },
   "source": [
    "## Filling null values with -1"
   ]
  },
  {
   "cell_type": "code",
   "execution_count": 396,
   "metadata": {
    "colab": {},
    "colab_type": "code",
    "executionInfo": {
     "elapsed": 595,
     "status": "ok",
     "timestamp": 1598194500313,
     "user": {
      "displayName": "sandeep panchal",
      "photoUrl": "https://lh3.googleusercontent.com/a-/AOh14Gh7IOpMB5glav7I6AkOWH0-Wj6J4HZd3Y9iGvAkJA=s64",
      "userId": "16028125481769875260"
     },
     "user_tz": -330
    },
    "id": "rBbkWCLCxLgg"
   },
   "outputs": [],
   "source": [
    "x.fillna(-1, inplace = True)"
   ]
  },
  {
   "cell_type": "markdown",
   "metadata": {
    "colab_type": "text",
    "id": "-1LNHOULxHfN"
   },
   "source": [
    "## Label encoding color type feature"
   ]
  },
  {
   "cell_type": "code",
   "execution_count": 397,
   "metadata": {
    "colab": {},
    "colab_type": "code",
    "executionInfo": {
     "elapsed": 862,
     "status": "ok",
     "timestamp": 1598194502536,
     "user": {
      "displayName": "sandeep panchal",
      "photoUrl": "https://lh3.googleusercontent.com/a-/AOh14Gh7IOpMB5glav7I6AkOWH0-Wj6J4HZd3Y9iGvAkJA=s64",
      "userId": "16028125481769875260"
     },
     "user_tz": -330
    },
    "id": "ZUT_z22yvliY"
   },
   "outputs": [],
   "source": [
    "from sklearn.preprocessing import LabelEncoder\n",
    "\n",
    "# color type\n",
    "color = LabelEncoder()\n",
    "x['color_type'] = color.fit_transform(x['color_type'])"
   ]
  },
  {
   "cell_type": "markdown",
   "metadata": {
    "colab_type": "text",
    "id": "DkO9EBJfxYQn"
   },
   "source": [
    "## Model training with LGBMClassifier and hyperparameter tuning with GridSearchCV"
   ]
  },
  {
   "cell_type": "code",
   "execution_count": 398,
   "metadata": {
    "colab": {
     "base_uri": "https://localhost:8080/",
     "height": 51
    },
    "colab_type": "code",
    "executionInfo": {
     "elapsed": 223398,
     "status": "ok",
     "timestamp": 1598194725741,
     "user": {
      "displayName": "sandeep panchal",
      "photoUrl": "https://lh3.googleusercontent.com/a-/AOh14Gh7IOpMB5glav7I6AkOWH0-Wj6J4HZd3Y9iGvAkJA=s64",
      "userId": "16028125481769875260"
     },
     "user_tz": -330
    },
    "id": "4VdGvieyv0Tg",
    "outputId": "9b1df9ea-722f-49c4-b0da-7deefa7c949e"
   },
   "outputs": [
    {
     "name": "stdout",
     "output_type": "stream",
     "text": [
      "CPU times: user 3min 39s, sys: 2.9 s, total: 3min 42s\n",
      "Wall time: 3min 42s\n"
     ]
    }
   ],
   "source": [
    "%%time\n",
    "\n",
    "from lightgbm import LGBMClassifier\n",
    "from sklearn.model_selection import GridSearchCV\n",
    "\n",
    "params = {'max_depth':  [2, 3, 5, 8, 10, 12],\n",
    "          'n_estimators': [30, 50, 70, 90, 110, 150, 170, 200, 250]}\n",
    "\n",
    "lgb = LGBMClassifier()\n",
    "\n",
    "lgb_clf = GridSearchCV(lgb, params, cv = 4, return_train_score = True, scoring = 'f1_weighted')\n",
    "\n",
    "lgb_clf.fit(x.values, y.values)"
   ]
  },
  {
   "cell_type": "code",
   "execution_count": 399,
   "metadata": {
    "colab": {
     "base_uri": "https://localhost:8080/",
     "height": 51
    },
    "colab_type": "code",
    "executionInfo": {
     "elapsed": 221822,
     "status": "ok",
     "timestamp": 1598194725743,
     "user": {
      "displayName": "sandeep panchal",
      "photoUrl": "https://lh3.googleusercontent.com/a-/AOh14Gh7IOpMB5glav7I6AkOWH0-Wj6J4HZd3Y9iGvAkJA=s64",
      "userId": "16028125481769875260"
     },
     "user_tz": -330
    },
    "id": "E__TLPwXv8tt",
    "outputId": "b81160df-6286-45ed-e478-8c1283718868"
   },
   "outputs": [
    {
     "name": "stdout",
     "output_type": "stream",
     "text": [
      "Best hyperparameter: {'max_depth': 10, 'n_estimators': 200}\n",
      "Best score: 0.8732489062641269\n"
     ]
    }
   ],
   "source": [
    "print('Best hyperparameter:', lgb_clf.best_params_)\n",
    "print('Best score:', lgb_clf.best_score_)"
   ]
  },
  {
   "cell_type": "markdown",
   "metadata": {
    "colab_type": "text",
    "id": "Y8quV1OsyGIn"
   },
   "source": [
    "<center><h1>Test Prediction</h1>"
   ]
  },
  {
   "cell_type": "code",
   "execution_count": 400,
   "metadata": {
    "colab": {},
    "colab_type": "code",
    "executionInfo": {
     "elapsed": 219809,
     "status": "ok",
     "timestamp": 1598194725745,
     "user": {
      "displayName": "sandeep panchal",
      "photoUrl": "https://lh3.googleusercontent.com/a-/AOh14Gh7IOpMB5glav7I6AkOWH0-Wj6J4HZd3Y9iGvAkJA=s64",
      "userId": "16028125481769875260"
     },
     "user_tz": -330
    },
    "id": "CPJ7lV4ryKZz"
   },
   "outputs": [],
   "source": [
    "testc = copy.deepcopy(test)"
   ]
  },
  {
   "cell_type": "markdown",
   "metadata": {
    "colab_type": "text",
    "id": "AQsZmCMYxdAm"
   },
   "source": [
    "## Predicting breed_category\n",
    "- Run the below cell only if predicting breed_category"
   ]
  },
  {
   "cell_type": "code",
   "execution_count": 385,
   "metadata": {
    "colab": {},
    "colab_type": "code",
    "executionInfo": {
     "elapsed": 221336,
     "status": "ok",
     "timestamp": 1598194294651,
     "user": {
      "displayName": "sandeep panchal",
      "photoUrl": "https://lh3.googleusercontent.com/a-/AOh14Gh7IOpMB5glav7I6AkOWH0-Wj6J4HZd3Y9iGvAkJA=s64",
      "userId": "16028125481769875260"
     },
     "user_tz": -330
    },
    "id": "KfIZvyQoOvq4"
   },
   "outputs": [],
   "source": [
    "# fetures for predicting breed_category\n",
    "xte = testc[['condition', 'color_type', 'X1', 'X2']]"
   ]
  },
  {
   "cell_type": "markdown",
   "metadata": {
    "colab_type": "text",
    "id": "QEvEUIKGxobz"
   },
   "source": [
    "## Predicting pet_category\n",
    "- Run the below cell only if predicting pet_category"
   ]
  },
  {
   "cell_type": "code",
   "execution_count": 401,
   "metadata": {
    "colab": {},
    "colab_type": "code",
    "executionInfo": {
     "elapsed": 1292,
     "status": "ok",
     "timestamp": 1598194727042,
     "user": {
      "displayName": "sandeep panchal",
      "photoUrl": "https://lh3.googleusercontent.com/a-/AOh14Gh7IOpMB5glav7I6AkOWH0-Wj6J4HZd3Y9iGvAkJA=s64",
      "userId": "16028125481769875260"
     },
     "user_tz": -330
    },
    "id": "TaSGh_dlxwmc"
   },
   "outputs": [],
   "source": [
    "# fetures for predicting pet_category\n",
    "xte = testc[['color_type', 'X1', 'X2']]"
   ]
  },
  {
   "cell_type": "markdown",
   "metadata": {
    "colab_type": "text",
    "id": "-tep9Gcxxw0_"
   },
   "source": [
    "## Feature engineering\n",
    "- Adding X1 and X2"
   ]
  },
  {
   "cell_type": "code",
   "execution_count": 402,
   "metadata": {
    "colab": {},
    "colab_type": "code",
    "executionInfo": {
     "elapsed": 1268,
     "status": "ok",
     "timestamp": 1598194727044,
     "user": {
      "displayName": "sandeep panchal",
      "photoUrl": "https://lh3.googleusercontent.com/a-/AOh14Gh7IOpMB5glav7I6AkOWH0-Wj6J4HZd3Y9iGvAkJA=s64",
      "userId": "16028125481769875260"
     },
     "user_tz": -330
    },
    "id": "mOYQXnOWx0Zo"
   },
   "outputs": [],
   "source": [
    "xte['x12'] = xte['X1'] + xte['X2']"
   ]
  },
  {
   "cell_type": "markdown",
   "metadata": {
    "colab_type": "text",
    "id": "9hDKWIzyxreQ"
   },
   "source": [
    "## Filling null values with -1"
   ]
  },
  {
   "cell_type": "code",
   "execution_count": 403,
   "metadata": {
    "colab": {},
    "colab_type": "code",
    "executionInfo": {
     "elapsed": 1255,
     "status": "ok",
     "timestamp": 1598194727045,
     "user": {
      "displayName": "sandeep panchal",
      "photoUrl": "https://lh3.googleusercontent.com/a-/AOh14Gh7IOpMB5glav7I6AkOWH0-Wj6J4HZd3Y9iGvAkJA=s64",
      "userId": "16028125481769875260"
     },
     "user_tz": -330
    },
    "id": "wvqa6t8izZ_G"
   },
   "outputs": [],
   "source": [
    "xte.fillna(-1, inplace = True)"
   ]
  },
  {
   "cell_type": "markdown",
   "metadata": {
    "colab_type": "text",
    "id": "F88Bc0Mhx1o1"
   },
   "source": [
    "## Label encoding color type feature"
   ]
  },
  {
   "cell_type": "code",
   "execution_count": 404,
   "metadata": {
    "colab": {},
    "colab_type": "code",
    "executionInfo": {
     "elapsed": 1241,
     "status": "ok",
     "timestamp": 1598194727046,
     "user": {
      "displayName": "sandeep panchal",
      "photoUrl": "https://lh3.googleusercontent.com/a-/AOh14Gh7IOpMB5glav7I6AkOWH0-Wj6J4HZd3Y9iGvAkJA=s64",
      "userId": "16028125481769875260"
     },
     "user_tz": -330
    },
    "id": "wJtUpdc2ydQ0"
   },
   "outputs": [],
   "source": [
    "from sklearn.preprocessing import LabelEncoder\n",
    "\n",
    "# color type\n",
    "xte['color_type'] = color.transform(xte['color_type'])"
   ]
  },
  {
   "cell_type": "markdown",
   "metadata": {
    "colab_type": "text",
    "id": "F5o-bDk_TTXW"
   },
   "source": [
    "## We will consider breed_category for predicting pet_category\n",
    "- Run the below cell only if predicting pet_category"
   ]
  },
  {
   "cell_type": "code",
   "execution_count": 406,
   "metadata": {
    "colab": {
     "base_uri": "https://localhost:8080/",
     "height": 34
    },
    "colab_type": "code",
    "executionInfo": {
     "elapsed": 967,
     "status": "ok",
     "timestamp": 1598194761235,
     "user": {
      "displayName": "sandeep panchal",
      "photoUrl": "https://lh3.googleusercontent.com/a-/AOh14Gh7IOpMB5glav7I6AkOWH0-Wj6J4HZd3Y9iGvAkJA=s64",
      "userId": "16028125481769875260"
     },
     "user_tz": -330
    },
    "id": "BeMqP_yl3__5",
    "outputId": "4047053e-ef7f-42c0-c591-2b0529f2979d"
   },
   "outputs": [
    {
     "data": {
      "text/plain": [
       "Index(['color_type', 'X1', 'X2', 'breed_category', 'x12'], dtype='object')"
      ]
     },
     "execution_count": 406,
     "metadata": {
      "tags": []
     },
     "output_type": "execute_result"
    }
   ],
   "source": [
    "xte['breed_category'] = pred_breed\n",
    "\n",
    "xte = xte[x.columns]\n",
    "\n",
    "xte.columns"
   ]
  },
  {
   "cell_type": "markdown",
   "metadata": {
    "colab_type": "text",
    "id": "cgH1l8uTP8fX"
   },
   "source": [
    "## Predicting breed_category\n",
    "- Run the below cell only if predicting breed_category"
   ]
  },
  {
   "cell_type": "code",
   "execution_count": 377,
   "metadata": {
    "colab": {},
    "colab_type": "code",
    "executionInfo": {
     "elapsed": 950,
     "status": "ok",
     "timestamp": 1598194043784,
     "user": {
      "displayName": "sandeep panchal",
      "photoUrl": "https://lh3.googleusercontent.com/a-/AOh14Gh7IOpMB5glav7I6AkOWH0-Wj6J4HZd3Y9iGvAkJA=s64",
      "userId": "16028125481769875260"
     },
     "user_tz": -330
    },
    "id": "_cApQmyFy52w"
   },
   "outputs": [],
   "source": [
    "pred_breed = lgb_clf.predict(xte.values)"
   ]
  },
  {
   "cell_type": "markdown",
   "metadata": {
    "colab_type": "text",
    "id": "jUQcWsUoQCRT"
   },
   "source": [
    "## Predicting pet_category\n",
    "- Run the below cell only if predicting pet_category"
   ]
  },
  {
   "cell_type": "code",
   "execution_count": 407,
   "metadata": {
    "colab": {},
    "colab_type": "code",
    "executionInfo": {
     "elapsed": 1318,
     "status": "ok",
     "timestamp": 1598194792354,
     "user": {
      "displayName": "sandeep panchal",
      "photoUrl": "https://lh3.googleusercontent.com/a-/AOh14Gh7IOpMB5glav7I6AkOWH0-Wj6J4HZd3Y9iGvAkJA=s64",
      "userId": "16028125481769875260"
     },
     "user_tz": -330
    },
    "id": "XHbyoXALQEaz"
   },
   "outputs": [],
   "source": [
    "pred_pet = lgb_clf.predict(xte.values)"
   ]
  },
  {
   "cell_type": "markdown",
   "metadata": {
    "colab_type": "text",
    "id": "vMg4dLONQJoO"
   },
   "source": [
    "## Creating a submission dataframe"
   ]
  },
  {
   "cell_type": "code",
   "execution_count": 408,
   "metadata": {
    "colab": {},
    "colab_type": "code",
    "executionInfo": {
     "elapsed": 964,
     "status": "ok",
     "timestamp": 1598194793533,
     "user": {
      "displayName": "sandeep panchal",
      "photoUrl": "https://lh3.googleusercontent.com/a-/AOh14Gh7IOpMB5glav7I6AkOWH0-Wj6J4HZd3Y9iGvAkJA=s64",
      "userId": "16028125481769875260"
     },
     "user_tz": -330
    },
    "id": "Z36sVifHznTg"
   },
   "outputs": [],
   "source": [
    "sub = pd.DataFrame()\n",
    "sub['pet_id'] = testc['pet_id']\n",
    "sub['breed_category'] = pred_breed\n",
    "sub['pet_category'] = pred_pet"
   ]
  },
  {
   "cell_type": "code",
   "execution_count": 409,
   "metadata": {
    "colab": {
     "base_uri": "https://localhost:8080/",
     "height": 204
    },
    "colab_type": "code",
    "executionInfo": {
     "elapsed": 970,
     "status": "ok",
     "timestamp": 1598194795836,
     "user": {
      "displayName": "sandeep panchal",
      "photoUrl": "https://lh3.googleusercontent.com/a-/AOh14Gh7IOpMB5glav7I6AkOWH0-Wj6J4HZd3Y9iGvAkJA=s64",
      "userId": "16028125481769875260"
     },
     "user_tz": -330
    },
    "id": "SkqgyicP2DGb",
    "outputId": "00989bb4-d267-4b23-9359-ec0e41da42a2"
   },
   "outputs": [
    {
     "data": {
      "text/html": [
       "<div>\n",
       "<style scoped>\n",
       "    .dataframe tbody tr th:only-of-type {\n",
       "        vertical-align: middle;\n",
       "    }\n",
       "\n",
       "    .dataframe tbody tr th {\n",
       "        vertical-align: top;\n",
       "    }\n",
       "\n",
       "    .dataframe thead th {\n",
       "        text-align: right;\n",
       "    }\n",
       "</style>\n",
       "<table border=\"1\" class=\"dataframe\">\n",
       "  <thead>\n",
       "    <tr style=\"text-align: right;\">\n",
       "      <th></th>\n",
       "      <th>pet_id</th>\n",
       "      <th>breed_category</th>\n",
       "      <th>pet_category</th>\n",
       "    </tr>\n",
       "  </thead>\n",
       "  <tbody>\n",
       "    <tr>\n",
       "      <th>0</th>\n",
       "      <td>ANSL_75005</td>\n",
       "      <td>1.0</td>\n",
       "      <td>2</td>\n",
       "    </tr>\n",
       "    <tr>\n",
       "      <th>1</th>\n",
       "      <td>ANSL_76663</td>\n",
       "      <td>0.0</td>\n",
       "      <td>1</td>\n",
       "    </tr>\n",
       "    <tr>\n",
       "      <th>2</th>\n",
       "      <td>ANSL_58259</td>\n",
       "      <td>0.0</td>\n",
       "      <td>2</td>\n",
       "    </tr>\n",
       "    <tr>\n",
       "      <th>3</th>\n",
       "      <td>ANSL_67171</td>\n",
       "      <td>0.0</td>\n",
       "      <td>1</td>\n",
       "    </tr>\n",
       "    <tr>\n",
       "      <th>4</th>\n",
       "      <td>ANSL_72871</td>\n",
       "      <td>0.0</td>\n",
       "      <td>2</td>\n",
       "    </tr>\n",
       "  </tbody>\n",
       "</table>\n",
       "</div>"
      ],
      "text/plain": [
       "       pet_id  breed_category  pet_category\n",
       "0  ANSL_75005             1.0             2\n",
       "1  ANSL_76663             0.0             1\n",
       "2  ANSL_58259             0.0             2\n",
       "3  ANSL_67171             0.0             1\n",
       "4  ANSL_72871             0.0             2"
      ]
     },
     "execution_count": 409,
     "metadata": {
      "tags": []
     },
     "output_type": "execute_result"
    }
   ],
   "source": [
    "sub.head()"
   ]
  },
  {
   "cell_type": "code",
   "execution_count": 411,
   "metadata": {
    "colab": {},
    "colab_type": "code",
    "executionInfo": {
     "elapsed": 926,
     "status": "ok",
     "timestamp": 1598194836509,
     "user": {
      "displayName": "sandeep panchal",
      "photoUrl": "https://lh3.googleusercontent.com/a-/AOh14Gh7IOpMB5glav7I6AkOWH0-Wj6J4HZd3Y9iGvAkJA=s64",
      "userId": "16028125481769875260"
     },
     "user_tz": -330
    },
    "id": "cwSylvY0z4A6"
   },
   "outputs": [],
   "source": [
    "sub.to_csv('lgbm-final.csv', index = False)"
   ]
  },
  {
   "cell_type": "code",
   "execution_count": null,
   "metadata": {
    "colab": {},
    "colab_type": "code",
    "id": "rAjj4KHCEedZ"
   },
   "outputs": [],
   "source": []
  },
  {
   "cell_type": "markdown",
   "metadata": {
    "colab_type": "text",
    "id": "NaWfp5a91V8k"
   },
   "source": [
    "<center><h1>END</h1>"
   ]
  },
  {
   "cell_type": "code",
   "execution_count": null,
   "metadata": {
    "colab": {},
    "colab_type": "code",
    "id": "r-5GQhNU1YeL"
   },
   "outputs": [],
   "source": []
  }
 ],
 "metadata": {
  "accelerator": "GPU",
  "colab": {
   "authorship_tag": "ABX9TyON42cZn/ZO4vbnc4NmD5Su",
   "collapsed_sections": [],
   "name": "pet-adoption-final.ipynb",
   "provenance": []
  },
  "kernelspec": {
   "display_name": "Python 3",
   "language": "python",
   "name": "python3"
  },
  "language_info": {
   "codemirror_mode": {
    "name": "ipython",
    "version": 3
   },
   "file_extension": ".py",
   "mimetype": "text/x-python",
   "name": "python",
   "nbconvert_exporter": "python",
   "pygments_lexer": "ipython3",
   "version": "3.7.6"
  }
 },
 "nbformat": 4,
 "nbformat_minor": 1
}
